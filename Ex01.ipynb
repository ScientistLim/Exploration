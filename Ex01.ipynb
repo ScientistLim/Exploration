{
 "cells": [
  {
   "cell_type": "code",
   "execution_count": 60,
   "id": "d2759a00",
   "metadata": {},
   "outputs": [],
   "source": [
    "import pandas as pd\n",
    "import numpy as np\n",
    "from sklearn.datasets import load_diabetes\n",
    "\n",
    "diabetes = load_diabetes()\n",
    "df_x = pd.DataFrame(diabetes.data, columns=diabetes.feature_names)\n",
    "df_y = pd.DataFrame(diabetes.target, columns=[\"target\"])"
   ]
  },
  {
   "cell_type": "code",
   "execution_count": 61,
   "id": "86c76ff0",
   "metadata": {},
   "outputs": [],
   "source": [
    "x = df_x.values\n",
    "y = df_y.values"
   ]
  },
  {
   "cell_type": "code",
   "execution_count": 62,
   "id": "b8d9fe80",
   "metadata": {},
   "outputs": [
    {
     "data": {
      "text/plain": [
       "(((353, 10), (353, 1)), ((89, 10), (89, 1)))"
      ]
     },
     "execution_count": 62,
     "metadata": {},
     "output_type": "execute_result"
    }
   ],
   "source": [
    "from sklearn.model_selection import train_test_split\n",
    "\n",
    "x_train, x_test, y_train, y_test = train_test_split(x, y, test_size=0.2, random_state=42)\n",
    "\n",
    "(x_train.shape, y_train.shape), (x_test.shape, y_test.shape)\n"
   ]
  },
  {
   "cell_type": "code",
   "execution_count": 63,
   "id": "652295b8",
   "metadata": {},
   "outputs": [],
   "source": [
    "def model(x, w, b):\n",
    "    y = np.dot(x, w) + b\n",
    "    return y"
   ]
  },
  {
   "cell_type": "code",
   "execution_count": 64,
   "id": "b8a401c3",
   "metadata": {},
   "outputs": [],
   "source": [
    "def MSE(a, b):\n",
    "    mse = ((a - b) ** 2).mean()  \n",
    "    return mse\n",
    "\n",
    "def loss(x, w, b, y):\n",
    "    predictions = model(x, w, b)\n",
    "    L = MSE(predictions, y)\n",
    "    return L"
   ]
  },
  {
   "cell_type": "code",
   "execution_count": 65,
   "id": "9e01dc03",
   "metadata": {},
   "outputs": [],
   "source": [
    "def gradient(x, w, b, y):\n",
    "    dw = (loss(x, w + 0.0001, b, y) - loss(x, w, b, y)) / 0.0001\n",
    "    db = (loss(x, w, b + 0.0001, y) - loss(x, w, b, y)) / 0.0001\n",
    "    return dw, db"
   ]
  },
  {
   "cell_type": "code",
   "execution_count": 66,
   "id": "01f63aaa",
   "metadata": {},
   "outputs": [],
   "source": [
    "LEARNING_RATE = 0.01\n",
    "num_features = x_train.shape[1]\n",
    "w = np.random.randn(num_features)\n",
    "b = np.random.randn()\n",
    "\n",
    "losses = []"
   ]
  },
  {
   "cell_type": "code",
   "execution_count": 67,
   "id": "ba5ff8ff",
   "metadata": {},
   "outputs": [],
   "source": [
    "for i in range(1, 2001):\n",
    "    dw, db = gradient(x_train, w, b, y_train)\n",
    "    w -= LEARNING_RATE * dw    \n",
    "    b -= LEARNING_RATE * db   \n",
    "    L = loss(x_train, w, b, y_train)\n",
    "    losses.append(L) "
   ]
  },
  {
   "cell_type": "code",
   "execution_count": 68,
   "id": "daa89d46",
   "metadata": {},
   "outputs": [
    {
     "name": "stdout",
     "output_type": "stream",
     "text": [
      "Test Loss: 5361.49576286581\n"
     ]
    }
   ],
   "source": [
    "prediction = model(x_test, w, b)\n",
    "prediction = np.squeeze(prediction)\n",
    "\n",
    "error = loss(x_test, w, b, y_test)\n",
    "\n",
    "print(\"Test Loss:\", error)\n"
   ]
  },
  {
   "cell_type": "code",
   "execution_count": 69,
   "id": "3e25c783",
   "metadata": {},
   "outputs": [
    {
     "name": "stdout",
     "output_type": "stream",
     "text": [
      "Shape of x_test[:, 0]: (89,)\n",
      "Shape of prediction: (89,)\n"
     ]
    }
   ],
   "source": [
    "print(\"Shape of x_test[:, 0]:\", x_test[:, 0].shape)\n",
    "print(\"Shape of prediction:\", prediction.shape)\n"
   ]
  },
  {
   "cell_type": "code",
   "execution_count": 70,
   "id": "481cb7d0",
   "metadata": {
    "scrolled": true
   },
   "outputs": [
    {
     "data": {
      "image/png": "[encoded data removed]",
      "text/plain": [
       "<Figure size 720x432 with 1 Axes>"
      ]
     },
     "metadata": {
      "needs_background": "light"
     },
     "output_type": "display_data"
    }
   ],
   "source": [
    "import matplotlib.pyplot as plt\n",
    "\n",
    "plt.figure(figsize=(10,6))\n",
    "\n",
    "plt.scatter(x_test[:, 0], y_test, label=\"True\", alpha=0.7)\n",
    "\n",
    "plt.scatter(x_test[:, 0], prediction, label=\"Predicted\", alpha=0.7)\n",
    "\n",
    "plt.xlabel(\"First Column of x_test\")\n",
    "plt.ylabel(\"Target\")\n",
    "plt.legend()\n",
    "plt.show()\n",
    "\n",
    "\n",
    "\n"
   ]
  },
  {
   "cell_type": "code",
   "execution_count": null,
   "id": "304aa28b",
   "metadata": {},
   "outputs": [],
   "source": []
  },
  {
   "cell_type": "code",
   "execution_count": null,
   "id": "e05c6dcd",
   "metadata": {},
   "outputs": [],
   "source": []
  }
 ],
 "metadata": {
  "kernelspec": {
   "display_name": "Python 3 (ipykernel)",
   "language": "python",
   "name": "python3"
  },
  "language_info": {
   "codemirror_mode": {
    "name": "ipython",
    "version": 3
   },
   "file_extension": ".py",
   "mimetype": "text/x-python",
   "name": "python",
   "nbconvert_exporter": "python",
   "pygments_lexer": "ipython3",
   "version": "3.9.7"
  }
 },
 "nbformat": 4,
 "nbformat_minor": 5
}
